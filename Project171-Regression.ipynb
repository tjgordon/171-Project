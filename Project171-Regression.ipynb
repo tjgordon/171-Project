{
 "cells": [
  {
   "cell_type": "code",
   "execution_count": 1,
   "metadata": {},
   "outputs": [],
   "source": [
    "# Imports\n",
    "import numpy as np\n",
    "import pandas as pd\n",
    "import time\n",
    "import datetime\n",
    "import tensorflow as tf\n",
    "from sklearn.preprocessing import MinMaxScaler\n",
    "from sklearn.model_selection import KFold\n",
    "from tensorflow.keras.models import Sequential\n",
    "from tensorflow.keras.layers import Dense"
   ]
  },
  {
   "cell_type": "code",
   "execution_count": 2,
   "metadata": {},
   "outputs": [],
   "source": [
    "# Defines\n",
    "YEAR = 2017\n",
    "THRESHOLD = .60\n",
    "FILL_NA = 0\n",
    "DATE_CONVERSION = 'timestamps'\n",
    "PREPROCESSING = 'MinMax'\n",
    "KFOLD_SPLITS = 10"
   ]
  },
  {
   "cell_type": "code",
   "execution_count": 3,
   "metadata": {},
   "outputs": [],
   "source": [
    "# Functions\n",
    "def check_na(train):\n",
    "    # Finds the number of missing values in each column\n",
    "    num_of_na = [train.loc[:,col].isnull().sum() for col in train]\n",
    "    # Divide by rows for proportion \n",
    "    prop_na = [num / train.shape[0] for num in num_of_na]\n",
    "    # Put the proporitons and column names into a df and sort\n",
    "    na_df = pd.DataFrame({'prop_na' : prop_na, 'column' : train.columns}).sort_values('prop_na')\n",
    "    return na_df"
   ]
  },
  {
   "cell_type": "code",
   "execution_count": null,
   "metadata": {},
   "outputs": [],
   "source": [
    "# Read csvs\n",
    "if YEAR == 2016:\n",
    "    properties = pd.read_csv('properties_2016.csv', low_memory = False)\n",
    "    train = pd.read_csv('train_2016_v2.csv', low_memory = False)\n",
    "elif YEAR == 2017:\n",
    "    properties = pd.read_csv('properties_2017.csv', low_memory = False)\n",
    "    train = pd.read_csv('train_2017.csv', low_memory = False)\n",
    "# train has Y and properties has features\n",
    "# Find row intersection of train and properties\n",
    "train = train.merge(properties, on = 'parcelid', how = 'left')"
   ]
  },
  {
   "cell_type": "code",
   "execution_count": null,
   "metadata": {},
   "outputs": [],
   "source": [
    "print('BEFORE')\n",
    "print(check_na(train))\n",
    "# Remove all columns above the THRESHOLD\n",
    "train = train.loc[:, (train.isnull().sum(axis=0) <= (train.shape[0]*THRESHOLD))]\n",
    "print('AFTER')\n",
    "print(check_na(train))"
   ]
  },
  {
   "cell_type": "markdown",
   "metadata": {},
   "source": [
    "TODO: fill the missing values via prediction\n",
    "\n",
    "Types of variables:  \n",
    "- Continuous  \n",
    "- Discrete  \n",
    "- Categorical\n",
    "\n",
    "Predict variables according to their type:  \n",
    "- Linear: continuous\n",
    "- Logistic: discrete, categorical\n"
   ]
  },
  {
   "cell_type": "code",
   "execution_count": null,
   "metadata": {},
   "outputs": [],
   "source": [
    "continuous = ['bathroomcnt',\n",
    "              'buildingqualitytypeid',\n",
    "              'calculatedbathnbr',\n",
    "              'finishedfloor1squarefeet',\n",
    "              'calculatedfinishedsquarefeet',\n",
    "              'finishedsquarefeet6',\n",
    "              'finishedsquarefeet12',\n",
    "              'finishedsquarefeet13',\n",
    "              'finishedsquarefeet15',\n",
    "              'finishedsquarefeet50',\n",
    "              'garagetotalsqft',\n",
    "              'latitude',\n",
    "              'longitude',\n",
    "              'lotsizesquarefeet',\n",
    "              'poolsizesum',\n",
    "              'taxvaluedollarcnt',\n",
    "              'structuretaxvaluedollarcnt',\n",
    "              'landtaxvaluedollarcnt',\n",
    "              'taxamount'\n",
    "]\n",
    "\n",
    "discrete = ['bedroomcnt',\n",
    "            'threequarterbathnbr',\n",
    "            'fireplacecnt',\n",
    "            'fullbathcnt',\n",
    "            'garagecarcnt',\n",
    "            'numberofstories',\n",
    "            'poolcnt',\n",
    "            'roomcnt',\n",
    "            'unitcnt'\n",
    "]\n",
    "categorical = ['airconditioningtypeid', \n",
    "               'architecturalstyletypeid',\n",
    "               'basementsqft',\n",
    "               'buildingclasstypeid',\n",
    "               'decktypeid',\n",
    "               'fips',\n",
    "               'fireplaceflag',\n",
    "               'hashottuborspa',\n",
    "               'heatingorsystemtypeid',\n",
    "               'pooltypeid10',\n",
    "               'pooltypeid2',\n",
    "               'pooltypeid7',\n",
    "               'propertycountylandusecode',\n",
    "               'propertylandusetypeid',\n",
    "               'propertyzoningdesc',\n",
    "               'rawcensustractandblock',\n",
    "               'censustractandblock',\n",
    "               'regionidcounty',\n",
    "               'regionidcity',\n",
    "               'regionidzip',\n",
    "               'regionidneighborhood',\n",
    "               'storytypeid',\n",
    "               'typeconstructiontypeid',\n",
    "               'yardbuildingsqft17',\n",
    "               'yardbuildingsqft26',\n",
    "               'yearbuilt',\n",
    "               'assessmentyear',\n",
    "               'taxdelinquencyflag',\n",
    "               'taxdelinquencyyear'\n",
    "]"
   ]
  },
  {
   "cell_type": "code",
   "execution_count": null,
   "metadata": {},
   "outputs": [],
   "source": [
    "# test linear reg\n",
    "from sklearn.linear_model import LogisticRegression\n",
    "# Use saga solver due to large dataset\n",
    "solver = 'saga' \n",
    "lr = LogisticRegression(solver=solver,\n",
    "#                         multi_class=model,\n",
    "#                         C=1,\n",
    "#                         penalty='l1',\n",
    "#                         fit_intercept=True,\n",
    "#                         max_iter=this_max_iter,\n",
    "                        random_state=42,\n",
    ")"
   ]
  },
  {
   "cell_type": "code",
   "execution_count": null,
   "metadata": {},
   "outputs": [],
   "source": [
    "properties = properties.loc[1:100000,]\n",
    "prop2 = pd.get_dummies(properties)\n",
    "prop2.dtypes"
   ]
  },
  {
   "cell_type": "code",
   "execution_count": null,
   "metadata": {},
   "outputs": [],
   "source": [
    "# xtrain is the dataset without rows which are missing a value for \n",
    "# the variable in question, \n",
    "# and ytrain is that value\n",
    "variable = 'bedroomcnt'\n",
    "xtrain_isna = prop2.loc[:, variable].isnull()\n",
    "xtrain = prop2.drop(variable, axis=1).loc[np.logical_not(xtrain_isna),]\n",
    "ytrain = prop2.loc[np.logical_not(xtrain_isna), variable]"
   ]
  },
  {
   "cell_type": "code",
   "execution_count": null,
   "metadata": {},
   "outputs": [],
   "source": [
    "xtrain.head()"
   ]
  },
  {
   "cell_type": "code",
   "execution_count": null,
   "metadata": {},
   "outputs": [],
   "source": [
    "ytrain.head()"
   ]
  },
  {
   "cell_type": "code",
   "execution_count": null,
   "metadata": {},
   "outputs": [],
   "source": [
    "# [var for var in discrete + categorical]"
   ]
  },
  {
   "cell_type": "code",
   "execution_count": null,
   "metadata": {},
   "outputs": [],
   "source": [
    "lr.fit(xtrain, ytrain)"
   ]
  },
  {
   "cell_type": "code",
   "execution_count": null,
   "metadata": {},
   "outputs": [],
   "source": []
  },
  {
   "cell_type": "code",
   "execution_count": null,
   "metadata": {},
   "outputs": [],
   "source": [
    "# # Replace all NAs with number defined in FILL_NA\n",
    "# train = train.fillna(FILL_NA)\n",
    "# # Convert transactiondate strings into floats\n",
    "# date_strings = (train.values[:,2])\n",
    "# date_converted = []\n",
    "# if DATE_CONVERSION == 'timestamps':\n",
    "#     for string in date_strings:\n",
    "#         date_converted.append(time.mktime(datetime.datetime.strptime(string, \"%Y-%m-%d\").timetuple()))\n",
    "# train['transactiondate'] = np.asarray(date_converted)\n",
    "# # Drop the columns with string and int\n",
    "# train = train.drop(columns=['propertycountylandusecode', 'propertyzoningdesc'])"
   ]
  },
  {
   "cell_type": "code",
   "execution_count": null,
   "metadata": {},
   "outputs": [],
   "source": []
  },
  {
   "cell_type": "code",
   "execution_count": null,
   "metadata": {},
   "outputs": [],
   "source": [
    "# # Preprocessing\n",
    "# y = train.values[:,1]\n",
    "# y = y.reshape(y.shape[0],1)\n",
    "# x = train.values[:,2:]\n",
    "# if PREPROCESSING == 'MinMax':\n",
    "#     scaler = MinMaxScaler()\n",
    "#     scaler.fit(x)\n",
    "#     x = scaler.transform(x)\n",
    "# # KFolds\n",
    "# kf = KFold(n_splits = KFOLD_SPLITS, shuffle = True)\n",
    "# for train_index, test_index in kf.split(x):\n",
    "#     print(\"TRAIN:\", train_index, \"TEST:\", test_index)\n",
    "#     x_train, x_test = x[train_index], x[test_index]\n",
    "#     y_train, y_test = y[train_index], y[test_index]"
   ]
  },
  {
   "cell_type": "code",
   "execution_count": null,
   "metadata": {},
   "outputs": [],
   "source": [
    "# model = tf.keras.models.Sequential([\n",
    "#         tf.keras.layers.Dense(6, input_dim = 27, activation = 'relu'),\n",
    "#         tf.keras.layers.Dense(6, activation = 'relu'),\n",
    "#         tf.keras.layers.Dense(6, activation = 'relu'),\n",
    "#         tf.keras.layers.Dense(1, activation = 'linear')\n",
    "#     ])\n",
    "# sgd = tf.keras.optimizers.SGD(lr=0.1)\n",
    "# model.compile(loss = 'mse', optimizer = sgd)\n",
    "# model.fit(x_train, y_train, epochs = 500, batch_size = 32, verbose = 1)"
   ]
  },
  {
   "cell_type": "code",
   "execution_count": null,
   "metadata": {},
   "outputs": [],
   "source": [
    "# print(model.evaluate(x_test, y_test, verbose = 1))"
   ]
  },
  {
   "cell_type": "code",
   "execution_count": null,
   "metadata": {},
   "outputs": [],
   "source": []
  }
 ],
 "metadata": {
  "kernelspec": {
   "display_name": "Python 3",
   "language": "python",
   "name": "python3"
  },
  "language_info": {
   "codemirror_mode": {
    "name": "ipython",
    "version": 3
   },
   "file_extension": ".py",
   "mimetype": "text/x-python",
   "name": "python",
   "nbconvert_exporter": "python",
   "pygments_lexer": "ipython3",
   "version": "3.6.7"
  }
 },
 "nbformat": 4,
 "nbformat_minor": 2
}
