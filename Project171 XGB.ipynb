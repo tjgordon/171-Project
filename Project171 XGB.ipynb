{
 "cells": [
  {
   "cell_type": "code",
   "execution_count": 1,
   "metadata": {},
   "outputs": [
    {
     "name": "stderr",
     "output_type": "stream",
     "text": [
      "/home/abhay/anaconda3/lib/python3.6/site-packages/h5py/__init__.py:36: FutureWarning: Conversion of the second argument of issubdtype from `float` to `np.floating` is deprecated. In future, it will be treated as `np.float64 == np.dtype(float).type`.\n",
      "  from ._conv import register_converters as _register_converters\n"
     ]
    }
   ],
   "source": [
    "# Imports\n",
    "import numpy as np\n",
    "import pandas as pd\n",
    "import time\n",
    "import datetime\n",
    "import tensorflow as tf\n",
    "from sklearn.preprocessing import MinMaxScaler\n",
    "from sklearn.model_selection import KFold\n",
    "from tensorflow.keras.models import Sequential\n",
    "from tensorflow.keras.layers import Dense"
   ]
  },
  {
   "cell_type": "code",
   "execution_count": 66,
   "metadata": {},
   "outputs": [],
   "source": [
    "# Defines\n",
    "YEAR = 2017\n",
    "THRESHOLD = .60\n",
    "FILL_NA = 0\n",
    "DATE_CONVERSION = 'timestamps'\n",
    "PREPROCESSING = 'MinMax'\n",
    "KFOLD_SPLITS = 10"
   ]
  },
  {
   "cell_type": "code",
   "execution_count": 67,
   "metadata": {},
   "outputs": [],
   "source": [
    "# Functions\n",
    "def check_na(train):\n",
    "    # Finds the number of missing values in each column\n",
    "    num_of_na = [train.loc[:,col].isnull().sum() for col in train]\n",
    "    # Divide by rows for proportion \n",
    "    prop_na = [num / train.shape[0] for num in num_of_na]\n",
    "    # Put the proporitons and column names into a df and sort\n",
    "    na_df = pd.DataFrame({'prop_na' : prop_na, 'column' : train.columns}).sort_values('prop_na')\n",
    "    return na_df"
   ]
  },
  {
   "cell_type": "code",
   "execution_count": 68,
   "metadata": {},
   "outputs": [],
   "source": [
    "# Read csvs\n",
    "if YEAR == 2016:\n",
    "    properties = pd.read_csv('properties_2016.csv', low_memory = False)\n",
    "    train = pd.read_csv('train_2016_v2.csv', low_memory = False)\n",
    "elif YEAR == 2017:\n",
    "    properties = pd.read_csv('properties_2017.csv', low_memory = False)\n",
    "    train = pd.read_csv('train_2017.csv', low_memory = False)\n",
    "# train has Y and properties has features\n",
    "# Find row intersection of train and properties\n",
    "train = train.merge(properties, on = 'parcelid', how = 'left')"
   ]
  },
  {
   "cell_type": "code",
   "execution_count": 69,
   "metadata": {},
   "outputs": [
    {
     "name": "stdout",
     "output_type": "stream",
     "text": [
      "BEFORE\n",
      "     prop_na                        column\n",
      "0   0.000000                      parcelid\n",
      "1   0.000000                      logerror\n",
      "2   0.000000               transactiondate\n",
      "27  0.000438                     longitude\n",
      "34  0.000438     propertycountylandusecode\n",
      "35  0.000438         propertylandusetypeid\n",
      "37  0.000438        rawcensustractandblock\n",
      "39  0.000438                regionidcounty\n",
      "42  0.000438                       roomcnt\n",
      "19  0.000438                          fips\n",
      "7   0.000438                    bedroomcnt\n",
      "6   0.000438                   bathroomcnt\n",
      "54  0.000438                assessmentyear\n",
      "26  0.000438                      latitude\n",
      "53  0.000451             taxvaluedollarcnt\n",
      "55  0.000464         landtaxvaluedollarcnt\n",
      "56  0.000502                     taxamount\n",
      "41  0.001082                   regionidzip\n",
      "52  0.001920    structuretaxvaluedollarcnt\n",
      "13  0.003028  calculatedfinishedsquarefeet\n",
      "59  0.003621           censustractandblock\n",
      "49  0.003917                     yearbuilt\n",
      "21  0.008375                   fullbathcnt\n",
      "10  0.008375             calculatedbathnbr\n",
      "38  0.019404                  regionidcity\n",
      "14  0.047544          finishedsquarefeet12\n",
      "28  0.106838             lotsizesquarefeet\n",
      "46  0.346720                       unitcnt\n",
      "36  0.349645            propertyzoningdesc\n",
      "9   0.358239         buildingqualitytypeid\n",
      "25  0.361305         heatingorsystemtypeid\n",
      "40  0.600917          regionidneighborhood\n",
      "22  0.671189                  garagecarcnt\n",
      "23  0.671189               garagetotalsqft\n",
      "3   0.677799         airconditioningtypeid\n",
      "50  0.773247               numberofstories\n",
      "29  0.791607                       poolcnt\n",
      "33  0.805716                   pooltypeid7\n",
      "44  0.869790           threequarterbathnbr\n",
      "20  0.893201                  fireplacecnt\n",
      "17  0.922217          finishedsquarefeet50\n",
      "12  0.922217      finishedfloor1squarefeet\n",
      "16  0.960999          finishedsquarefeet15\n",
      "57  0.962635            taxdelinquencyflag\n",
      "58  0.962635            taxdelinquencyyear\n",
      "47  0.969168            yardbuildingsqft17\n",
      "24  0.980171                hashottuborspa\n",
      "32  0.986162                   pooltypeid2\n",
      "30  0.988803                   poolsizesum\n",
      "11  0.992089                    decktypeid\n",
      "31  0.994009                  pooltypeid10\n",
      "18  0.995027           finishedsquarefeet6\n",
      "45  0.997127        typeconstructiontypeid\n",
      "4   0.997333      architecturalstyletypeid\n",
      "51  0.997784                 fireplaceflag\n",
      "48  0.999098            yardbuildingsqft26\n",
      "43  0.999356                   storytypeid\n",
      "5   0.999356                  basementsqft\n",
      "15  0.999459          finishedsquarefeet13\n",
      "8   0.999807           buildingclasstypeid\n",
      "AFTER\n",
      "     prop_na                        column\n",
      "0   0.000000                      parcelid\n",
      "1   0.000000                      logerror\n",
      "2   0.000000               transactiondate\n",
      "27  0.000438                assessmentyear\n",
      "22  0.000438                       roomcnt\n",
      "20  0.000438                regionidcounty\n",
      "18  0.000438        rawcensustractandblock\n",
      "16  0.000438         propertylandusetypeid\n",
      "13  0.000438                     longitude\n",
      "12  0.000438                      latitude\n",
      "15  0.000438     propertycountylandusecode\n",
      "9   0.000438                          fips\n",
      "4   0.000438                    bedroomcnt\n",
      "3   0.000438                   bathroomcnt\n",
      "26  0.000451             taxvaluedollarcnt\n",
      "28  0.000464         landtaxvaluedollarcnt\n",
      "29  0.000502                     taxamount\n",
      "21  0.001082                   regionidzip\n",
      "25  0.001920    structuretaxvaluedollarcnt\n",
      "7   0.003028  calculatedfinishedsquarefeet\n",
      "30  0.003621           censustractandblock\n",
      "24  0.003917                     yearbuilt\n",
      "6   0.008375             calculatedbathnbr\n",
      "10  0.008375                   fullbathcnt\n",
      "19  0.019404                  regionidcity\n",
      "8   0.047544          finishedsquarefeet12\n",
      "14  0.106838             lotsizesquarefeet\n",
      "23  0.346720                       unitcnt\n",
      "17  0.349645            propertyzoningdesc\n",
      "5   0.358239         buildingqualitytypeid\n",
      "11  0.361305         heatingorsystemtypeid\n"
     ]
    }
   ],
   "source": [
    "print('BEFORE')\n",
    "print(check_na(train))\n",
    "# Remove all columns above the THRESHOLD\n",
    "train = train.loc[:, (train.isnull().sum(axis=0) <= (train.shape[0]*THRESHOLD))]\n",
    "print('AFTER')\n",
    "print(check_na(train))"
   ]
  },
  {
   "cell_type": "code",
   "execution_count": 70,
   "metadata": {},
   "outputs": [],
   "source": [
    "# Convert transactiondate strings into floats\n",
    "date_strings = (train.values[:,2])\n",
    "date_converted = []\n",
    "if DATE_CONVERSION == 'timestamps':\n",
    "    for string in date_strings:\n",
    "        date_converted.append(time.mktime(datetime.datetime.strptime(string, \"%Y-%m-%d\").timetuple()))\n",
    "train['transactiondate'] = np.asarray(date_converted)\n",
    "# Drop the columns with string and int\n",
    "train = train.drop(columns=['propertycountylandusecode', 'propertyzoningdesc'])"
   ]
  },
  {
   "cell_type": "code",
   "execution_count": 71,
   "metadata": {},
   "outputs": [
    {
     "name": "stdout",
     "output_type": "stream",
     "text": [
      "TRAIN: [    0     1     2 ... 77609 77611 77612] TEST: [   14    17    29 ... 77590 77605 77610]\n",
      "TRAIN: [    0     1     2 ... 77610 77611 77612] TEST: [    5    12    19 ... 77596 77602 77606]\n",
      "TRAIN: [    0     2     3 ... 77610 77611 77612] TEST: [    1     8    10 ... 77587 77604 77607]\n",
      "TRAIN: [    0     1     2 ... 77610 77611 77612] TEST: [    7     9    18 ... 77536 77597 77608]\n",
      "TRAIN: [    0     1     3 ... 77610 77611 77612] TEST: [    2     4    13 ... 77585 77594 77601]\n",
      "TRAIN: [    0     1     2 ... 77607 77608 77610] TEST: [   11    20    31 ... 77609 77611 77612]\n",
      "TRAIN: [    1     2     3 ... 77610 77611 77612] TEST: [    0    35    43 ... 77579 77589 77599]\n",
      "TRAIN: [    0     1     2 ... 77610 77611 77612] TEST: [   15    46    57 ... 77575 77576 77603]\n",
      "TRAIN: [    0     1     2 ... 77610 77611 77612] TEST: [   16    24    32 ... 77569 77572 77581]\n",
      "TRAIN: [    0     1     2 ... 77610 77611 77612] TEST: [    3     6    23 ... 77592 77598 77600]\n"
     ]
    }
   ],
   "source": [
    "# Preprocessing\n",
    "y = train.values[:,1]\n",
    "y = y.reshape(y.shape[0],1)\n",
    "x = train.values[:,2:]\n",
    "\n",
    "# KFolds\n",
    "kf = KFold(n_splits = KFOLD_SPLITS, shuffle = True)\n",
    "for train_index, test_index in kf.split(x):\n",
    "    print(\"TRAIN:\", train_index, \"TEST:\", test_index)\n",
    "    x_train, x_test = x[train_index], x[test_index]\n",
    "    y_train, y_test = y[train_index], y[test_index]"
   ]
  },
  {
   "cell_type": "code",
   "execution_count": null,
   "metadata": {},
   "outputs": [],
   "source": []
  },
  {
   "cell_type": "code",
   "execution_count": null,
   "metadata": {},
   "outputs": [],
   "source": []
  },
  {
   "cell_type": "code",
   "execution_count": 79,
   "metadata": {},
   "outputs": [],
   "source": [
    "from xgboost import XGBRegressor\n",
    "from sklearn.model_selection import GridSearchCV\n",
    "\n",
    "\n",
    "model = XGBRegressor(max_depth=6, n_estimators=500, learning_rate=0.01)\n",
    "# reg_cv = GridSearchCV(model, {'max_depth': [4,6,8], 'n_estimators': [500,1000]}, \n",
    "#     'learning_rate': [0.1, 0.01], verbose=1, cv=2)\n",
    "# reg_cv.fit(x_train, y_train)\n"
   ]
  },
  {
   "cell_type": "code",
   "execution_count": 80,
   "metadata": {},
   "outputs": [
    {
     "data": {
      "text/plain": [
       "XGBRegressor(base_score=0.5, booster='gbtree', colsample_bylevel=1,\n",
       "       colsample_bytree=1, gamma=0, learning_rate=0.01, max_delta_step=0,\n",
       "       max_depth=6, min_child_weight=1, missing=None, n_estimators=500,\n",
       "       n_jobs=1, nthread=None, objective='reg:linear', random_state=0,\n",
       "       reg_alpha=0, reg_lambda=1, scale_pos_weight=1, seed=None,\n",
       "       silent=True, subsample=1)"
      ]
     },
     "execution_count": 80,
     "metadata": {},
     "output_type": "execute_result"
    }
   ],
   "source": [
    "# model = XGBRegressor(**reg_cv.best_params_)\n",
    "model.fit(x_train, y_train)"
   ]
  },
  {
   "cell_type": "code",
   "execution_count": 81,
   "metadata": {},
   "outputs": [
    {
     "data": {
      "text/plain": [
       "array([0.05079138, 0.01918674, 0.02837124, ..., 0.07011229, 0.02022144,\n",
       "       0.02401921], dtype=float32)"
      ]
     },
     "execution_count": 81,
     "metadata": {},
     "output_type": "execute_result"
    }
   ],
   "source": [
    "prediction = model.predict(x_test)   #predict values\n",
    "prediction"
   ]
  },
  {
   "cell_type": "code",
   "execution_count": 82,
   "metadata": {},
   "outputs": [
    {
     "data": {
      "text/plain": [
       "0.03156123321371255"
      ]
     },
     "execution_count": 82,
     "metadata": {},
     "output_type": "execute_result"
    }
   ],
   "source": [
    "from sklearn.metrics import mean_squared_error as mse\n",
    "mse(y_test, prediction)"
   ]
  },
  {
   "cell_type": "code",
   "execution_count": null,
   "metadata": {},
   "outputs": [],
   "source": []
  }
 ],
 "metadata": {
  "kernelspec": {
   "display_name": "Python 3",
   "language": "python",
   "name": "python3"
  },
  "language_info": {
   "codemirror_mode": {
    "name": "ipython",
    "version": 3
   },
   "file_extension": ".py",
   "mimetype": "text/x-python",
   "name": "python",
   "nbconvert_exporter": "python",
   "pygments_lexer": "ipython3",
   "version": "3.6.5"
  }
 },
 "nbformat": 4,
 "nbformat_minor": 2
}
