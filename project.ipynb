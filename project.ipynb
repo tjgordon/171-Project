{
 "cells": [
  {
   "cell_type": "code",
   "execution_count": 23,
   "metadata": {},
   "outputs": [],
   "source": [
    "import pandas as pd\n",
    "import numpy as np"
   ]
  },
  {
   "cell_type": "code",
   "execution_count": 55,
   "metadata": {},
   "outputs": [
    {
     "name": "stderr",
     "output_type": "stream",
     "text": [
      "/Users/arthurhlaing/anaconda3/lib/python3.6/site-packages/IPython/core/interactiveshell.py:2785: DtypeWarning: Columns (49) have mixed types. Specify dtype option on import or set low_memory=False.\n",
      "  interactivity=interactivity, compiler=compiler, result=result)\n"
     ]
    },
    {
     "name": "stdout",
     "output_type": "stream",
     "text": [
      "(2985217, 58)\n",
      "(77613, 81)\n"
     ]
    }
   ],
   "source": [
    "properties_read = pd.read_csv('properties_2017.csv')\n",
    "train_read = pd.read_csv('train_2017.csv')\n",
    "print(properties.shape)\n",
    "print(train.shape)"
   ]
  },
  {
   "cell_type": "code",
   "execution_count": 65,
   "metadata": {},
   "outputs": [],
   "source": [
    "# Add features to train\n",
    "train = train_read.merge(properties_read, left_on='parcelid', right_on='parcelid', how='left')"
   ]
  },
  {
   "cell_type": "code",
   "execution_count": 75,
   "metadata": {},
   "outputs": [
    {
     "name": "stdout",
     "output_type": "stream",
     "text": [
      "     prop_na                        column\n",
      "0   0.000000                      parcelid\n",
      "1   0.000000                      logerror\n",
      "2   0.000000               transactiondate\n",
      "27  0.000438                     longitude\n",
      "34  0.000438     propertycountylandusecode\n",
      "35  0.000438         propertylandusetypeid\n",
      "37  0.000438        rawcensustractandblock\n",
      "39  0.000438                regionidcounty\n",
      "42  0.000438                       roomcnt\n",
      "19  0.000438                          fips\n",
      "7   0.000438                    bedroomcnt\n",
      "6   0.000438                   bathroomcnt\n",
      "54  0.000438                assessmentyear\n",
      "26  0.000438                      latitude\n",
      "53  0.000451             taxvaluedollarcnt\n",
      "55  0.000464         landtaxvaluedollarcnt\n",
      "56  0.000502                     taxamount\n",
      "41  0.001082                   regionidzip\n",
      "52  0.001920    structuretaxvaluedollarcnt\n",
      "13  0.003028  calculatedfinishedsquarefeet\n",
      "59  0.003621           censustractandblock\n",
      "49  0.003917                     yearbuilt\n",
      "21  0.008375                   fullbathcnt\n",
      "10  0.008375             calculatedbathnbr\n",
      "38  0.019404                  regionidcity\n",
      "14  0.047544          finishedsquarefeet12\n",
      "28  0.106838             lotsizesquarefeet\n",
      "46  0.346720                       unitcnt\n",
      "36  0.349645            propertyzoningdesc\n",
      "9   0.358239         buildingqualitytypeid\n",
      "25  0.361305         heatingorsystemtypeid\n",
      "40  0.600917          regionidneighborhood\n",
      "22  0.671189                  garagecarcnt\n",
      "23  0.671189               garagetotalsqft\n",
      "3   0.677799         airconditioningtypeid\n",
      "50  0.773247               numberofstories\n",
      "29  0.791607                       poolcnt\n",
      "33  0.805716                   pooltypeid7\n",
      "44  0.869790           threequarterbathnbr\n",
      "20  0.893201                  fireplacecnt\n",
      "17  0.922217          finishedsquarefeet50\n",
      "12  0.922217      finishedfloor1squarefeet\n",
      "16  0.960999          finishedsquarefeet15\n",
      "57  0.962635            taxdelinquencyflag\n",
      "58  0.962635            taxdelinquencyyear\n",
      "47  0.969168            yardbuildingsqft17\n",
      "24  0.980171                hashottuborspa\n",
      "32  0.986162                   pooltypeid2\n",
      "30  0.988803                   poolsizesum\n",
      "11  0.992089                    decktypeid\n",
      "31  0.994009                  pooltypeid10\n",
      "18  0.995027           finishedsquarefeet6\n",
      "45  0.997127        typeconstructiontypeid\n",
      "4   0.997333      architecturalstyletypeid\n",
      "51  0.997784                 fireplaceflag\n",
      "48  0.999098            yardbuildingsqft26\n",
      "43  0.999356                   storytypeid\n",
      "5   0.999356                  basementsqft\n",
      "15  0.999459          finishedsquarefeet13\n",
      "8   0.999807           buildingclasstypeid\n"
     ]
    }
   ],
   "source": [
    "# Finds the number of missing values in each column\n",
    "num_of_na = [train.loc[:,col].isnull().sum() for col in train]\n",
    "# Divide by rows for proportion \n",
    "prop_na = [num / train.shape[0] for num in num_of_na]\n",
    "# Put the proporitons and column names into a df\n",
    "na_df = pd.DataFrame({'prop_na' : prop_na, 'column' : train.columns})\n",
    "na_df = na_df.sort_values('prop_na')\n",
    "print(na_df)"
   ]
  },
  {
   "cell_type": "code",
   "execution_count": 77,
   "metadata": {},
   "outputs": [
    {
     "name": "stdout",
     "output_type": "stream",
     "text": [
      "(77613, 60)\n"
     ]
    }
   ],
   "source": [
    "threshold = 0.60\n",
    "train_filtered = train.loc[:, (train.isnull().sum(axis=0) <= (train.shape[0]*threshold))]\n",
    "print(train.shape)"
   ]
  },
  {
   "cell_type": "code",
   "execution_count": 78,
   "metadata": {},
   "outputs": [
    {
     "name": "stdout",
     "output_type": "stream",
     "text": [
      "     prop_na                        column\n",
      "0   0.000000                      parcelid\n",
      "1   0.000000                      logerror\n",
      "2   0.000000               transactiondate\n",
      "27  0.000438                assessmentyear\n",
      "22  0.000438                       roomcnt\n",
      "20  0.000438                regionidcounty\n",
      "18  0.000438        rawcensustractandblock\n",
      "16  0.000438         propertylandusetypeid\n",
      "13  0.000438                     longitude\n",
      "12  0.000438                      latitude\n",
      "15  0.000438     propertycountylandusecode\n",
      "9   0.000438                          fips\n",
      "4   0.000438                    bedroomcnt\n",
      "3   0.000438                   bathroomcnt\n",
      "26  0.000451             taxvaluedollarcnt\n",
      "28  0.000464         landtaxvaluedollarcnt\n",
      "29  0.000502                     taxamount\n",
      "21  0.001082                   regionidzip\n",
      "25  0.001920    structuretaxvaluedollarcnt\n",
      "7   0.003028  calculatedfinishedsquarefeet\n",
      "30  0.003621           censustractandblock\n",
      "24  0.003917                     yearbuilt\n",
      "6   0.008375             calculatedbathnbr\n",
      "10  0.008375                   fullbathcnt\n",
      "19  0.019404                  regionidcity\n",
      "8   0.047544          finishedsquarefeet12\n",
      "14  0.106838             lotsizesquarefeet\n",
      "23  0.346720                       unitcnt\n",
      "17  0.349645            propertyzoningdesc\n",
      "5   0.358239         buildingqualitytypeid\n",
      "11  0.361305         heatingorsystemtypeid\n"
     ]
    }
   ],
   "source": [
    "num_of_na = [train_filtered.loc[:,col].isnull().sum() for col in train_filtered]\n",
    "# Divide by rows for proportion \n",
    "prop_na = [num / train_filtered.shape[0] for num in num_of_na]\n",
    "# Put the proporitons and column names into a df\n",
    "na_df = pd.DataFrame({'prop_na' : prop_na, 'column' : train_filtered.columns})\n",
    "na_df = na_df.sort_values('prop_na')\n",
    "print(na_df)"
   ]
  },
  {
   "cell_type": "code",
   "execution_count": null,
   "metadata": {},
   "outputs": [],
   "source": []
  }
 ],
 "metadata": {
  "kernelspec": {
   "display_name": "Python 3",
   "language": "python",
   "name": "python3"
  },
  "language_info": {
   "codemirror_mode": {
    "name": "ipython",
    "version": 3
   },
   "file_extension": ".py",
   "mimetype": "text/x-python",
   "name": "python",
   "nbconvert_exporter": "python",
   "pygments_lexer": "ipython3",
   "version": "3.6.5"
  }
 },
 "nbformat": 4,
 "nbformat_minor": 2
}
